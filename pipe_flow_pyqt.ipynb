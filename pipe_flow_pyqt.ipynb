{
  "cells": [
    {
      "cell_type": "code",
      "execution_count": 1,
      "metadata": {
        "id": "f5oM3-RsJ26P"
      },
      "outputs": [],
      "source": [
        "import numpy as np\n",
        "import jax.numpy as jnp\n",
        "\n",
        "from jax import grad,jit, vmap, pmap\n",
        "\n",
        "import pyqtgraph as pg\n",
        "from pyqtgraph.Qt import QtGui, QtCore\n",
        "\n",
        "from tqdm import tqdm"
      ]
    },
    {
      "cell_type": "code",
      "execution_count": 2,
      "metadata": {},
      "outputs": [
        {
          "name": "stdout",
          "output_type": "stream",
          "text": [
            "cpu\n",
            "False\n"
          ]
        }
      ],
      "source": [
        "from jax.lib import xla_bridge\n",
        "import jax\n",
        "jax.config.update(\"jax_enable_x64\", True)\n",
        "print(xla_bridge.get_backend().platform)\n",
        "def jax_has_gpu():\n",
        "    try:\n",
        "        _ = jax.device_put(jax.numpy.ones(1), device=jax.devices('gpu')[0])\n",
        "        return True\n",
        "    except:\n",
        "        return False\n",
        "print(jax_has_gpu())\n"
      ]
    },
    {
      "cell_type": "markdown",
      "metadata": {
        "id": "u8tmGpEwJ26Y"
      },
      "source": [
        "# Geometry Definition"
      ]
    },
    {
      "cell_type": "code",
      "execution_count": 3,
      "metadata": {},
      "outputs": [
        {
          "name": "stdout",
          "output_type": "stream",
          "text": [
            "Lenght of Τρυφωνας Θεμας is 13\n",
            "First name is Τρυφωνας and last name is Θεμας\n",
            "len of first name is 8 and len of last name is 5\n"
          ]
        }
      ],
      "source": [
        "name = \"Τρυφωνας Θεμας\"\n",
        "fname, lname = name.split(\" \")\n",
        "print(f\"Lenght of {name} is {len(name.replace(\" \", \"\"))}\")\n",
        "print(f\"First name is {fname} and last name is {lname}\")\n",
        "print(f\"len of first name is {len(fname)} and len of last name is {len(lname)}\")"
      ]
    },
    {
      "cell_type": "code",
      "execution_count": 4,
      "metadata": {
        "id": "JOCN8wC2J26b"
      },
      "outputs": [],
      "source": [
        "x_e = 2\n",
        "\n",
        "# Titos\n",
        "k = 11 / 100\n",
        "a = (2 + 1/10)*k\n",
        "b = 0.9 + 0.04\n",
        "\n",
        "#lyras\n",
        "# k = 12 /100\n",
        "# a = k * (2 + 9/10)\n",
        "# b = 0.9 + 11/100\n",
        "\n",
        "# MINE\n",
        "# k = 13 / 100\n",
        "# a = k * (2 + 1/10)\n",
        "# b = 0.9 + 8 / 100\n",
        "\n",
        "#bill\n",
        "k = 0.15\n",
        "a = (2.9)*k\n",
        "b = 0.9 + 0.03\n",
        " \n",
        "c = 2 - b\n",
        "@jit\n",
        "def S_x(x):\n",
        "    x2 = x -c\n",
        "    return k + a *(x2) **2 * (x2**2 -b**2)\n",
        "\n",
        "N = 1000\n",
        "x = jnp.linspace(0, x_e, N)\n",
        "S = S_x(x)\n",
        "dx = x[1:] - x[:-1]\n",
        "dx = jnp.insert(dx, 0, dx[0], axis = 0)\n",
        "dS_dx = np.gradient(S,x)"
      ]
    },
    {
      "cell_type": "markdown",
      "metadata": {
        "id": "7lyWvozgJ26c"
      },
      "source": [
        "# Thermodynamic properties of the fluid"
      ]
    },
    {
      "cell_type": "code",
      "execution_count": 5,
      "metadata": {
        "id": "Yvp3qRAAJ26d"
      },
      "outputs": [],
      "source": [
        "gamma = 1.4\n",
        "R = 287.05\n",
        "c_v = R / (gamma - 1)\n",
        "c_p = gamma * c_v\n",
        "\n",
        "@jit\n",
        "def energy_from_U(U):\n",
        "    rho, u , p = U\n",
        "    # Find the temperature from the ideal gas law\n",
        "    T = p / (rho * R)\n",
        "    # return energy\n",
        "    return c_v* T + 0.5 * u ** 2\n",
        "\n",
        "@jit\n",
        "def total_enthalpy_from_U(U):\n",
        "    rho, u , p = U\n",
        "    T = p / (rho * R)\n",
        "    # return energy\n",
        "    return c_v* T + 0.5 * u ** 2 + p/rho"
      ]
    },
    {
      "cell_type": "markdown",
      "metadata": {
        "id": "rDL5ZFeeJ26e"
      },
      "source": [
        "# Boundary Conditions"
      ]
    },
    {
      "cell_type": "code",
      "execution_count": 6,
      "metadata": {
        "id": "3qjBM5s7J26f"
      },
      "outputs": [],
      "source": [
        "# titos\n",
        "p_input = 1e5\n",
        "p_exit = 0.5e5\n",
        "T_input = 273 + 4\n",
        "\n",
        "# # lyras\n",
        "# p_input = 9e5\n",
        "# p_exit = p_input - 0.1 * 7e5\n",
        "# T_input = 273 + 11\n",
        "\n",
        "# # mine\n",
        "# p_input = 1e5\n",
        "# p_exit = p_input - 0.1 * 8e5\n",
        "# T_input = 273 + 8\n",
        "\n",
        "#bill\n",
        "p_input = 9e5\n",
        "p_exit = 8.3e5\n",
        "T_input = 276\n",
        "\n",
        "rho_input = p_input / (R * T_input)\n"
      ]
    },
    {
      "cell_type": "markdown",
      "metadata": {
        "id": "IHe6Fej5J26h"
      },
      "source": [
        "# Initial Conditions"
      ]
    },
    {
      "cell_type": "code",
      "execution_count": 7,
      "metadata": {
        "id": "5BvkBt6PJ26i"
      },
      "outputs": [],
      "source": [
        "T0 =  jnp.ones(N)*(T_input - 10)\n",
        "u0 =  jnp.zeros(N)\n",
        "p0 =  jnp.ones(N) * p_exit\n",
        "\n",
        "# Initial Discontinuity\n",
        "p0 = p0.at[0].set(p_input)\n",
        "T0 = T0.at[0].set(T_input)"
      ]
    },
    {
      "cell_type": "markdown",
      "metadata": {
        "id": "MfyT8SnnJ26j"
      },
      "source": [
        "# Non-Conservative Variables"
      ]
    },
    {
      "cell_type": "code",
      "execution_count": 8,
      "metadata": {
        "id": "6VbufxW2J26k"
      },
      "outputs": [],
      "source": [
        "# Ideal gas law\n",
        "@jit\n",
        "def density_ideal_gas(T, P):\n",
        "    return P / (R * T)\n",
        "\n",
        "@jit\n",
        "def get_local_Mach(U):\n",
        "    rho, u, p = U\n",
        "    return u / jnp.sqrt(gamma * p / rho)\n",
        "\n",
        "rho0 = density_ideal_gas(T0, p0)\n",
        "U0 = jnp.array([rho0, u0, p0])"
      ]
    },
    {
      "cell_type": "markdown",
      "metadata": {
        "id": "mCxqd4KQJ26n"
      },
      "source": [
        "# Conversions"
      ]
    },
    {
      "cell_type": "code",
      "execution_count": 9,
      "metadata": {
        "id": "QzxDXYZLJ26n"
      },
      "outputs": [],
      "source": [
        "# From conservative to primitive variables\n",
        "@jit\n",
        "def Uc_to_U(UC,S):\n",
        "\n",
        "    rho = UC[0] / S\n",
        "    u = UC[1] / UC[0]\n",
        "    E = UC[2] / UC[0]\n",
        "\n",
        "    p = (gamma - 1) * (rho * E - 0.5 * rho * u**2)\n",
        "    U = jnp.array([rho, u, p])\n",
        "    return U\n",
        "\n",
        "# From primitive to conservative variables\n",
        "@jit\n",
        "def U_to_Uc(U,S):\n",
        "    rho = U[0]\n",
        "    u = U[1]\n",
        "    p = U[2]\n",
        "\n",
        "    E = p / (gamma - 1)/ rho + 0.5  * u**2\n",
        "    UC1 = rho * S\n",
        "    UC2 = UC1 * u\n",
        "    UC3 = UC1 * E\n",
        "    UC = jnp.array([UC1, UC2, UC3])\n",
        "    return UC"
      ]
    },
    {
      "cell_type": "markdown",
      "metadata": {
        "id": "MS9s5X7WJ26o"
      },
      "source": [
        "# Calculate Fluxes"
      ]
    },
    {
      "cell_type": "code",
      "execution_count": 10,
      "metadata": {
        "id": "EjGsBzNCJ26o"
      },
      "outputs": [],
      "source": [
        "@jit\n",
        "def get_input_ghost_cells(U):\n",
        "    u = U[1,0]\n",
        "    return jnp.expand_dims(\n",
        "        jnp.array([\n",
        "          rho_input,\n",
        "          u,\n",
        "          p_input\n",
        "        ]), axis=1)\n",
        "\n",
        "@jit\n",
        "def get_output_ghost_cells(U):\n",
        "    rho, u , _ = U[:,-1]\n",
        "    return jnp.expand_dims(\n",
        "        jnp.array([\n",
        "          rho,\n",
        "          u,\n",
        "          p_exit\n",
        "        ]), axis=1)\n",
        "\n",
        "@jit\n",
        "def get_sources(U,ds_dx):\n",
        "    _, _ , p = U\n",
        "    return jnp.array(\n",
        "        [\n",
        "            jnp.zeros(N),\n",
        "            p * ds_dx,\n",
        "            jnp.zeros(N)\n",
        "        ]\n",
        "    )\n",
        "\n",
        "@jit\n",
        "def get_fluxes(U,S):\n",
        "    H = total_enthalpy_from_U(U)\n",
        "    UC = U_to_Uc(U,S)\n",
        "    # _ , u, p = U\n",
        "\n",
        "    return jnp.array(\n",
        "        [\n",
        "            UC[1],\n",
        "            UC[1] * U[1] + U[2] * UC[0] / U[0],\n",
        "            UC[1] * H\n",
        "        ]\n",
        "    )\n",
        "\n",
        "@jit\n",
        "def A_abs(A_R,L,A_L,U_right, U_left):\n",
        "    return jnp.matmul(\n",
        "        A_R,\n",
        "        jnp.matmul(\n",
        "            L,\n",
        "        jnp.matmul(\n",
        "            A_L,\n",
        "            (U_right - U_left)\n",
        "        )))\n",
        "\n",
        "ind = -1\n",
        "\n",
        "@jit\n",
        "def roe_scheme(U_L, U_R):\n",
        "    H_L = total_enthalpy_from_U(U_L)\n",
        "    H_R = total_enthalpy_from_U(U_R)\n",
        "\n",
        "    U1_L, U2_L, U3_L = U_L\n",
        "    U1_R, U2_R, U3_R = U_R\n",
        "\n",
        "    # Roe Variables\n",
        "    rho_mean = jnp.sqrt(U1_L * U1_R)\n",
        "\n",
        "    u_mean = (\n",
        "        jnp.sqrt(U1_L) * U2_L + jnp.sqrt(U1_R) * U2_R\n",
        "    ) / (\n",
        "        jnp.sqrt(U1_L) + jnp.sqrt(U1_R)\n",
        "    )\n",
        "\n",
        "    H_mean = (\n",
        "        jnp.sqrt(U1_L) * H_L + jnp.sqrt(U1_R) * H_R\n",
        "    ) / (\n",
        "        jnp.sqrt(U1_L) + jnp.sqrt(U1_R)\n",
        "    )\n",
        "\n",
        "    c_mean = jnp.sqrt((gamma - 1) * (H_mean - 0.5 * u_mean**2))\n",
        "\n",
        "    # The A matrix is:\n",
        "    # [ u   rho     0       ]\n",
        "    # [ 0  u        1/rho   ]\n",
        "    # [ 0  rho*c^2  u       ]\n",
        "\n",
        "    # Create A matrix according to Roe's method\n",
        "    A_R = jnp.array([\n",
        "        [jnp.ones_like(u_mean),     jnp.ones_like(u_mean),    jnp.ones_like(u_mean)],\n",
        "        [u_mean - c_mean,           u_mean,                   u_mean + c_mean],\n",
        "        [H_mean - u_mean * c_mean,  0.5 * u_mean**2,          H_mean + u_mean * c_mean]\n",
        "    ]).transpose(2,0,1)\n",
        "\n",
        "    a1 = (gamma - 1) * u_mean**2 / (2 * c_mean**2)\n",
        "    a2 = (gamma - 1) / c_mean**2\n",
        "\n",
        "    A_L = jnp.array([\n",
        "        [1/2 * (a1 + u_mean/c_mean), -1/2 * (a2 * u_mean + 1/ c_mean),   a2/2],\n",
        "        [1-a1,                        a2 * u_mean,                       -a2 ],\n",
        "        [1/2 * (a1 - u_mean/c_mean), -1/2 * (a2 * u_mean - 1/ c_mean),   a2/2]\n",
        "    ]).transpose(2,0,1)\n",
        "\n",
        "    # Entropy Corrections\n",
        "    delta = 0.05 * jnp.abs(c_mean)\n",
        "\n",
        "    cond1 = [jnp.abs(u_mean - c_mean) > delta, jnp.abs(u_mean - c_mean) < delta]\n",
        "    num = (jnp.abs(u_mean - c_mean)**2  + delta**2 ) / (2* delta)\n",
        "    l1 = jnp.select(cond1, [jnp.abs(u_mean-c_mean), num], num)\n",
        "\n",
        "    cond2 = [jnp.abs(u_mean) > delta, jnp.abs(u_mean) < delta]\n",
        "    num = (jnp.abs(u_mean)**2  + delta**2 ) / (2* delta)\n",
        "    l2 = jnp.select(cond2, [jnp.abs(u_mean), num], num)\n",
        "\n",
        "    cond3 = [jnp.abs(u_mean + c_mean) > delta, jnp.abs(u_mean + c_mean) < delta]\n",
        "    num = (jnp.abs(u_mean + c_mean)**2  + delta**2 ) / (2* delta)\n",
        "    l3 = jnp.select(cond3, [jnp.abs(u_mean+c_mean), num], num)\n",
        "\n",
        "    lambda_A = jnp.array([\n",
        "        [l1,                       jnp.zeros_like(u_mean),  jnp.zeros_like(u_mean)],\n",
        "        [jnp.zeros_like(u_mean),   l2,                      jnp.zeros_like(u_mean)],\n",
        "        [jnp.zeros_like(u_mean),   jnp.zeros_like(u_mean),  l3                    ]\n",
        "    ]).transpose(2,0,1)\n",
        "\n",
        "    UC_R = U_to_Uc(U_R, jnp.insert(S, -1, S[-1], axis=0))\n",
        "    UC_L = U_to_Uc(U_L, jnp.insert(S, 0, S[0], axis=0))\n",
        "\n",
        "    # print(f\"U_L: {U_L[:,ind]}\")\n",
        "    # print(f\"H_L: {H_L[ind]}\")\n",
        "    # print(f\"U_R: {U_R[:,ind]}\")\n",
        "    # print(f\"u_roe**2: {0.5 * u_mean[ind]**2}\")\n",
        "    # print(f\"H_roe: {H_mean[ind]}\")\n",
        "    # print(f\"rho_roe: {rho_mean[ind]}\")\n",
        "    # print(A_R[ind,:,:])\n",
        "    # print(A_L[ind,:,:])\n",
        "    # print(lambda_A[ind,:,:])\n",
        "\n",
        "    return vmap(A_abs)(A_R, lambda_A, A_L, UC_R.T, UC_L.T)\n"
      ]
    },
    {
      "cell_type": "code",
      "execution_count": 11,
      "metadata": {
        "id": "gkGl-8FSeQEe"
      },
      "outputs": [],
      "source": [
        "S_all = jnp.hstack((S[0],S,S[-1]))\n",
        "\n",
        "@jit\n",
        "def dUC_dt(U_now):\n",
        "\n",
        "      # Add ghost cells\n",
        "      input_ghost = get_input_ghost_cells(U_now)\n",
        "      output_ghost = get_output_ghost_cells(U_now)\n",
        "\n",
        "      U_L = jnp.concatenate([input_ghost, U_now], axis = 1 )\n",
        "      U_R = jnp.concatenate([U_now, output_ghost], axis = 1 )\n",
        "      U_all = jnp.concatenate([U_L, output_ghost], axis = 1)\n",
        "\n",
        "      Q_nodes = get_sources(U_now, dS_dx)\n",
        "      F_nodes = get_fluxes(U_all, S_all)\n",
        "\n",
        "      roe = roe_scheme(U_L, U_R).T\n",
        "      F_faces = (F_nodes[:,1:] + F_nodes[:,:-1])/2 - 0.5 * roe\n",
        "\n",
        "      # print(f\"F_nodes: {F_nodes[:,ind]}\")\n",
        "      # print(f\"F_nodes: {F_nodes[:,ind+1]}\")\n",
        "      # print(f\"Roe:     {roe[:,ind]}\")\n",
        "      # print(f\"Q_nodes: {Q_nodes[:,ind]}\")\n",
        "      # print(f\"F:       {(F_faces[:,ind+1] - F_faces[:,ind])/dx[ind]}\")\n",
        "\n",
        "      return  Q_nodes - (F_faces[:,1:] - F_faces[:,:-1])/dx\n",
        "\n",
        "@jit\n",
        "def timestep(U,dt):\n",
        "    UC0_curr = U_to_Uc(U,S)\n",
        "\n",
        "    # Runge Kutta\n",
        "    for rki in [0.1084,0.2602,0.5052,1.]:\n",
        "      # print(rki)\n",
        "      # print(\"$$$$$$$$$$$$$$$$$$$$$\\n\")\n",
        "      UC = UC0_curr + dt * rki * dUC_dt(U)\n",
        "      U = Uc_to_U(UC,S)\n",
        "      # print(f\"UC0:     {UC0_curr[:,ind]}\")\n",
        "      # print(f\"UC:      {UC[:,ind]}\")\n",
        "      # print(f\"U:       {U[:,ind]}\")\n",
        "      # print(\"$$$$$$$$$$$$$$$$$$$$$\\n\")\n",
        "\n",
        "    return U"
      ]
    },
    {
      "cell_type": "code",
      "execution_count": 12,
      "metadata": {},
      "outputs": [],
      "source": [
        "@jit \n",
        "def check_nan(U):\n",
        "    if jnp.isnan(U).any():\n",
        "        # for k in range(U.shape[1]):\n",
        "            # print(k)\n",
        "            # print(U[:,k])\n",
        "        print(f\"%%%%%%%%%%%%%%%%\")\n",
        "        print(f\"NAN at iteration {i}\")\n",
        "        print(f\"Ui: {U[:, N]}\")\n",
        "        print(f\"%%%%%%%%\\n\")\n",
        "        raise StopIteration"
      ]
    },
    {
      "cell_type": "code",
      "execution_count": 13,
      "metadata": {},
      "outputs": [
        {
          "name": "stdout",
          "output_type": "stream",
          "text": [
            "360 µs ± 69.9 µs per loop (mean ± std. dev. of 7 runs, 1 loop each)\n"
          ]
        }
      ],
      "source": [
        "U = jnp.copy(U0)\n",
        "dt = 5e-6\n",
        "\n",
        "from jax import device_put\n",
        "device_put(U)\n",
        "%timeit timestep(U,dt)"
      ]
    },
    {
      "cell_type": "markdown",
      "metadata": {},
      "source": [
        "# Setup Plotting"
      ]
    },
    {
      "cell_type": "code",
      "execution_count": 14,
      "metadata": {
        "colab": {
          "background_save": true,
          "base_uri": "https://localhost:8080/"
        },
        "id": "YiONEGM9J26p",
        "outputId": "0d67c7f7-4157-427f-e315-287fc24d78d0"
      },
      "outputs": [],
      "source": [
        "import pyqtgraph as pg\n",
        "from pyqtgraph.Qt import QtCore, QtGui\n",
        "\n",
        "## Always start by initializing Qt (only once per application)\n",
        "pg.setConfigOptions(antialias=True)\n",
        "app = pg.mkQApp()\n",
        "\n",
        "## Define a top-level widget to hold everything\n",
        "win = pg.GraphicsLayoutWidget(show=True, title=\"Pipe Flow Visualization\")\n",
        "win.show()  ## show widget alone in its own window\n",
        "\n",
        "mach_numbers = get_local_Mach(U)\n",
        "plot_mach = win.addPlot(title=\"Mach Number\")\n",
        "plot_mach.addLegend()\n",
        "line_mach = plot_mach.plot(x[::10], mach_numbers[::10], pen=\"r\", name=\"Mach Number\")\n",
        "\n",
        "plot_rho = win.addPlot(title=\"Rho\")\n",
        "plot_rho.addLegend()\n",
        "line_rho = plot_rho.plot(x[::10], U[0, ::10], pen=\"r\", name=\"Density\")\n",
        "\n",
        "win.nextRow()\n",
        "plot_u = win.addPlot(title=\"U\")\n",
        "plot_u.addLegend()\n",
        "line_u = plot_u.plot(x[::10], U[1, ::10], pen=\"g\", name=\"Velocity\")\n",
        "\n",
        "plot_p = win.addPlot(title=\"P\")\n",
        "plot_p.addLegend()\n",
        "line_p = plot_p.plot(x[::10], U[2, ::10], pen=\"b\", name=\"Pressure\")\n",
        "\n",
        "label_time = win.addLabel(f\"Time: {0 * dt:.4f}\", colspan=3)\n",
        "iteration = win.addLabel(f\"Iteration: {0}\", colspan=3)\n",
        "\n",
        "def update_plot(U, i):\n",
        "    line_rho.setData(x[::10], U[0, ::10])\n",
        "    line_u.setData(x[::10], U[1, ::10])\n",
        "    line_p.setData(x[::10], U[2, ::10])\n",
        "    line_mach.setData(x[::10], get_local_Mach(U)[::10])\n"
      ]
    },
    {
      "cell_type": "markdown",
      "metadata": {},
      "source": [
        "# Run, Plot and Animate"
      ]
    },
    {
      "cell_type": "code",
      "execution_count": 15,
      "metadata": {},
      "outputs": [
        {
          "name": "stdout",
          "output_type": "stream",
          "text": [
            "0.5\n"
          ]
        },
        {
          "name": "stderr",
          "output_type": "stream",
          "text": [
            " 51%|█████▏    | 51461/100000 [02:07<01:43, 470.12it/s]"
          ]
        },
        {
          "data": {
            "text/plain": [
              "0"
            ]
          },
          "execution_count": 15,
          "metadata": {},
          "output_type": "execute_result"
        },
        {
          "name": "stderr",
          "output_type": "stream",
          "text": [
            " 51%|█████▏    | 51482/100000 [02:20<01:43, 470.12it/s]"
          ]
        }
      ],
      "source": [
        "\n",
        "timer = QtCore.QTimer()\n",
        "i = 0\n",
        "U = jnp.copy(U0)\n",
        "# Create tqdm progress bar\n",
        "total_iterations = 100000\n",
        "print(total_iterations*dt)\n",
        "pbar = tqdm(total=total_iterations)\n",
        "\n",
        "def run(iterations=total_iterations):\n",
        "    global i, U\n",
        "    U = timestep(U, dt)\n",
        "    pbar.update(1)\n",
        "\n",
        "    if (i % 20 == 0) and (i > 0):\n",
        "        # print(\"Updating plot\")\n",
        "        update_plot(U, i)\n",
        "        QtGui.QGuiApplication.processEvents()\n",
        "\n",
        "    i += 1\n",
        "    if i >= iterations:\n",
        "        print(\"Simulation finished\")\n",
        "        app.quit()\n",
        "\n",
        "    label_time.setText(f\"Time: {i * dt:.4f}\")\n",
        "    iteration.setText(f\"Iteration: {i}\")\n",
        "\n",
        "\n",
        "timer.timeout.connect(run)\n",
        "timer.start(0)\n",
        "app.exec()"
      ]
    },
    {
      "cell_type": "code",
      "execution_count": null,
      "metadata": {},
      "outputs": [],
      "source": []
    }
  ],
  "metadata": {
    "accelerator": "GPU",
    "colab": {
      "provenance": []
    },
    "kernelspec": {
      "display_name": "Python 3",
      "name": "python3"
    },
    "language_info": {
      "codemirror_mode": {
        "name": "ipython",
        "version": 3
      },
      "file_extension": ".py",
      "mimetype": "text/x-python",
      "name": "python",
      "nbconvert_exporter": "python",
      "pygments_lexer": "ipython3",
      "version": "3.12.0"
    }
  },
  "nbformat": 4,
  "nbformat_minor": 0
}
