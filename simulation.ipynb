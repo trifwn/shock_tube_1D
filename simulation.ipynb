{
 "cells": [
  {
   "cell_type": "code",
   "execution_count": 1,
   "metadata": {},
   "outputs": [],
   "source": [
    "%matplotlib qt"
   ]
  },
  {
   "cell_type": "code",
   "execution_count": 2,
   "metadata": {},
   "outputs": [],
   "source": [
    "from pipe_flow_eqs import setup_vars,calc_cfl, get_initial_conditions, timestep, get_local_Mach\n",
    "import jax.numpy as jnp\n",
    "import jax\n",
    "jax.config.update(\"jax_enable_x64\", True)\n",
    "\n",
    "from tqdm import tqdm"
   ]
  },
  {
   "cell_type": "code",
   "execution_count": 3,
   "metadata": {},
   "outputs": [],
   "source": [
    "from plotting_plt import setup_plot, update_plot\n",
    "from matplotlib import animation"
   ]
  },
  {
   "cell_type": "code",
   "execution_count": 4,
   "metadata": {},
   "outputs": [],
   "source": [
    "dt_relax = 0.1\n",
    "cfl_max = 2.0\n",
    "\n",
    "\n",
    "def run(iterations = 1000, N = 10000, plotting = True):\n",
    "    print(f\"Starting Simulation for iteration = {iterations} N = {N}\")\n",
    "    x, S, dx, dS_dx = setup_vars(N)\n",
    "    max_dx = jnp.max(dx)\n",
    "    S_all = jnp.hstack((S[0], S, S[-1]))\n",
    "    U0 = get_initial_conditions(N)\n",
    "    diff = jnp.zeros_like(U0)\n",
    "\n",
    "    checkpoint_times = [\n",
    "        0.001, # Checkpoint 0 for time t=0.001\n",
    "        0.002, # Checkpoint 1 for time t=0.002\n",
    "        0.003, # Checkpoint 2 for time t=0.003\n",
    "        0.004, # Checkpoint 3 for time t=0.004\n",
    "        0.005, # Checkpoint 4 for time t=0.005\n",
    "        0.008, # Checkpoint 5 for time t=0.008\n",
    "        0.01, # Checkpoint 6 for time t=0.01\n",
    "        0.012, # Checkpoint 7 for time t=0.012\n",
    "        0.015, # Checkpoint 8 for time t=0.015\n",
    "        0.02, # Checkpoint 9 for time t=0.02\n",
    "        0.05, # Checkpoint 10 for time t=0.05\n",
    "        0.1, # Checkpoint 11 for time t=0.1\n",
    "        0.2, # Checkpoint 12 for time t=0.2\n",
    "    ]\n",
    "\n",
    "    checkpoint_flags = [\n",
    "        False, # Checkpoint 0 for time t=0.001\n",
    "        False, # Checkpoint 1 for time t=0.002\n",
    "        False, # Checkpoint 2 for time t=0.003\n",
    "        False, # Checkpoint 3 for time t=0.004\n",
    "        False, # Checkpoint 4 for time t=0.005\n",
    "        False, # Checkpoint 5 for time t=0.008\n",
    "        False, # Checkpoint 6 for time t=0.01\n",
    "        False, # Checkpoint 7 for time t=0.012\n",
    "        False, # Checkpoint 8 for time t=0.015\n",
    "        False, # Checkpoint 9 for time t=0.02\n",
    "        False, # Checkpoint 10 for time t=0.05\n",
    "        False, # Checkpoint 11 for time t=0.1\n",
    "        False, # Checkpoint 12 for time t=0.2\n",
    "    ]\n",
    "\n",
    "    U_history = []\n",
    "    dU_history = []\n",
    "    dt_history = []\n",
    "    cfls = []\n",
    "    dts = []\n",
    "    max_diff_u = []\n",
    "    mean_diff_u = []\n",
    "\n",
    "    dt = 5e-7\n",
    "    time = 0\n",
    "    U = jnp.copy(U0)\n",
    "    jax.device_put(U)\n",
    "\n",
    "    if plotting:\n",
    "        fig, axs, line_rho, line_u, line_p, patches = setup_plot(x,S,dx,U,N, N_toplot=100)\n",
    "\n",
    "    # if saving == True:\n",
    "    Writer = animation.writers['ffmpeg']\n",
    "    writer = Writer(fps=15, metadata=dict(artist='Me'), bitrate=1800)\n",
    "\n",
    "    with writer.saving(fig, f\"movie_N_{N}.mp4\", dpi = 100):\n",
    "        for i in tqdm(range(iterations)):\n",
    "            U,diff= timestep(U,dt,S, S_all, dx, dS_dx)\n",
    "            time+=dt \n",
    "            cfl = calc_cfl(U,dt,max_dx)\n",
    "\n",
    "            max_diff_u.append(jnp.max(jnp.abs(diff[1,:])))\n",
    "            mean_diff_u.append(jnp.mean(jnp.abs(diff[1,:])))\n",
    "            dts.append(dt)\n",
    "            cfls.append(cfl)\n",
    "\n",
    "            if time > 0.2:\n",
    "                break\n",
    "            \n",
    "            # Update dt\n",
    "            dt = (\n",
    "                dt * cfl_max/cfl \n",
    "            )* dt_relax + (1-dt_relax)*dt\n",
    "\n",
    "            ## Live Plot\n",
    "            if i%20 == 0:\n",
    "                if plotting:\n",
    "                    update_plot(U,time,fig, axs, line_rho, line_u, line_p, patches,N_toplot=100)\n",
    "                    writer.grab_frame()\n",
    "            \n",
    "            ## Checkpointing\n",
    "            # When we cross the checpoint time we need to get the U and diff, dt variables\n",
    "            # and append them to the history arrays \n",
    "            for j, t in enumerate(checkpoint_times):\n",
    "                if time > t and checkpoint_flags[j] == False:\n",
    "                    checkpoint_flags[j] = True\n",
    "                    U_history.append(jnp.copy(U))\n",
    "\n",
    "\n",
    "    print(\"Simulation finished\")\n",
    "    U_checkpoints ={\n",
    "        \"U\": U_history,\n",
    "    }\n",
    "    \n",
    "    run_results = (U, U_checkpoints, cfls, dts, max_diff_u, mean_diff_u)\n",
    "    return run_results"
   ]
  },
  {
   "cell_type": "code",
   "execution_count": 5,
   "metadata": {},
   "outputs": [
    {
     "name": "stdout",
     "output_type": "stream",
     "text": [
      "Starting Simulation for iteration = 40000 N = 100\n"
     ]
    },
    {
     "name": "stderr",
     "output_type": "stream",
     "text": [
      " 10%|▉         | 3821/40000 [01:42<16:13, 37.15it/s]\n"
     ]
    },
    {
     "name": "stdout",
     "output_type": "stream",
     "text": [
      "Simulation finished\n",
      "Starting Simulation for iteration = 40000 N = 200\n"
     ]
    },
    {
     "name": "stderr",
     "output_type": "stream",
     "text": [
      " 19%|█▉        | 7695/40000 [03:25<14:23, 37.43it/s]\n"
     ]
    },
    {
     "name": "stdout",
     "output_type": "stream",
     "text": [
      "Simulation finished\n",
      "Starting Simulation for iteration = 40000 N = 500\n"
     ]
    },
    {
     "name": "stderr",
     "output_type": "stream",
     "text": [
      " 48%|████▊     | 19324/40000 [08:36<09:12, 37.42it/s]\n"
     ]
    },
    {
     "name": "stdout",
     "output_type": "stream",
     "text": [
      "Simulation finished\n",
      "Starting Simulation for iteration = 40000 N = 1000\n"
     ]
    },
    {
     "name": "stderr",
     "output_type": "stream",
     "text": [
      " 97%|█████████▋| 38711/40000 [17:01<00:34, 37.91it/s]\n"
     ]
    },
    {
     "name": "stdout",
     "output_type": "stream",
     "text": [
      "Simulation finished\n",
      "Starting Simulation for iteration = 50000 N = 2000\n"
     ]
    },
    {
     "name": "stderr",
     "output_type": "stream",
     "text": [
      "100%|██████████| 50000/50000 [22:35<00:00, 36.88it/s] \n"
     ]
    },
    {
     "name": "stdout",
     "output_type": "stream",
     "text": [
      "Simulation finished\n",
      "Starting Simulation for iteration = 500000 N = 5000\n"
     ]
    },
    {
     "name": "stderr",
     "output_type": "stream",
     "text": [
      " 39%|███▉      | 193832/500000 [1:36:46<2:32:51, 33.38it/s] \n"
     ]
    },
    {
     "name": "stdout",
     "output_type": "stream",
     "text": [
      "Simulation finished\n",
      "Starting Simulation for iteration = 500000 N = 10000\n"
     ]
    },
    {
     "name": "stderr",
     "output_type": "stream",
     "text": [
      " 78%|███████▊  | 387743/500000 [3:33:12<1:01:43, 30.31it/s] \n"
     ]
    },
    {
     "name": "stdout",
     "output_type": "stream",
     "text": [
      "Simulation finished\n"
     ]
    }
   ],
   "source": [
    "run_results100 = run(40000,100)\n",
    "run_results200 = run(40000,200)\n",
    "run_results500 = run(40000,500)\n",
    "run_results1000 = run(40000,1000)\n",
    "run_results2000 =  run(50000,2000)\n",
    "run_results5000 =  run(500000,5000)\n",
    "run_results10000 = run(500000,10000)"
   ]
  },
  {
   "cell_type": "markdown",
   "metadata": {},
   "source": [
    "# Plot run histories"
   ]
  },
  {
   "cell_type": "code",
   "execution_count": 6,
   "metadata": {},
   "outputs": [],
   "source": [
    "import matplotlib.pyplot as plt\n",
    "run_results = [run_results100, run_results200, run_results500, run_results1000, run_results2000, run_results5000, run_results10000]\n",
    "Ns = [100, 200, 500, 1000, 2000, 5000, 10000]"
   ]
  },
  {
   "cell_type": "code",
   "execution_count": 61,
   "metadata": {},
   "outputs": [],
   "source": [
    "# Plot the max and mean differences of u for each result\n",
    "\n",
    "#from dts calculate the time that corresponds to each iteration\n",
    "dts = run_results[-1][3]\n",
    "times = [0]\n",
    "for dt in dts:\n",
    "    times.append(times[-1]+dt)\n",
    "times = times[1:]\n",
    "\n",
    "\n",
    "fig, axs = plt.subplots(2,1, figsize = (10,10))\n",
    "for i, result in enumerate([run_results[-1]]):\n",
    "    axs[0].plot(times[::100], result[4][::100], label = f\"N = {Ns[-1]}\")\n",
    "    axs[1].plot(times[::100], result[5][::100], label = f\"N = {Ns[-1]}\")\n",
    "axs[0].set_yscale(\"log\")\n",
    "axs[0].set_xlabel(\"Time\")\n",
    "axs[0].set_ylabel(\"max ΔU at each iteration\")\n",
    "axs[0].legend()\n",
    "\n",
    "axs[1].set_yscale(\"log\")\n",
    "axs[1].set_xlabel(\"Time\")\n",
    "axs[1].set_ylabel(\"mean ΔU at each iteration\")\n",
    "axs[1].legend()\n",
    "plt.show()"
   ]
  },
  {
   "cell_type": "code",
   "execution_count": 64,
   "metadata": {},
   "outputs": [],
   "source": [
    "# Plot the CFLs for each result\n",
    "fig, ax = plt.subplots(2,1, figsize = (10,7))\n",
    "ax[0].plot(run_results[-1][2], label = f\"N = {Ns[-1]}\")\n",
    "ax[0].set_xlabel(\"Iteration\")\n",
    "ax[0].set_ylabel(\"CFL at each iteration\")\n",
    "ax[0].legend()\n",
    "\n",
    "ax[1].plot(run_results[-1][3], label = f\"N = {Ns[-1]}\")\n",
    "ax[1].set_yscale(\"log\")\n",
    "ax[1].set_xlabel(\"Iteration\")\n",
    "ax[1].set_ylabel(\"Dt at each iteration\")\n",
    "ax[1].legend()\n",
    "\n",
    "plt.show()"
   ]
  },
  {
   "cell_type": "code",
   "execution_count": 55,
   "metadata": {},
   "outputs": [],
   "source": [
    "# plot the checkpoints for each result\n",
    "checkpoint_times = [\n",
    "    0.001, # Checkpoint 0 for time t=0.001\n",
    "    0.002, # Checkpoint 1 for time t=0.002\n",
    "    0.003, # Checkpoint 2 for time t=0.003\n",
    "    0.004, # Checkpoint 3 for time t=0.004\n",
    "    0.005, # Checkpoint 4 for time t=0.005\n",
    "    0.008, # Checkpoint 5 for time t=0.008\n",
    "    0.01, # Checkpoint 6 for time t=0.01\n",
    "    0.012, # Checkpoint 7 for time t=0.012\n",
    "    0.015, # Checkpoint 8 for time t=0.015\n",
    "    0.02, # Checkpoint 9 for time t=0.02\n",
    "    0.05, # Checkpoint 10 for time t=0.05\n",
    "    0.1, # Checkpoint 11 for time t=0.1\n",
    "    0.2, # Checkpoint 12 for time t=0.2\n",
    "]\n",
    "time_idxs = [6,7,8,9,10,11]\n",
    "\n",
    "# Get some colors for each line\n",
    "colors = [\n",
    "    \"red\",\n",
    "    \"orange\",\n",
    "    \"blue\",\n",
    "    \"black\",\n",
    "    \"green\",\n",
    "    \"purple\",\n",
    "    \"pink\"\n",
    "]\n",
    "\n",
    "fig, axs = plt.subplots(2,2, figsize = (10,10))\n",
    "axs[0, 0].set_title(\"Mach Number\")\n",
    "axs[1, 0].set_title(\"Rho\")\n",
    "axs[0, 1].set_title(\"U\")\n",
    "axs[1, 1].set_title(\"P\")\n",
    "\n",
    "for i, time_idx in enumerate(time_idxs):\n",
    "    for j,res in enumerate([run_results[-1]]):\n",
    "        checkpoint = res[1]\n",
    "        U = checkpoint[\"U\"][time_idx]\n",
    "        N = 10000 #Ns[j]\n",
    "        x,_,_,_= setup_vars(N)\n",
    "        \n",
    "        axs[0,0].plot(x,get_local_Mach(U), color = colors[i], label = f\"time = {checkpoint_times[time_idx]}\")\n",
    "        axs[1, 0].plot(x, U[0,:], color= colors[i]) \n",
    "        axs[0, 1].plot(x, U[1,:], color=colors[i])\n",
    "        axs[1, 1].plot(x, U[2,:], color=colors[i])\n",
    "\n",
    "axs[0,0].legend()\n",
    "fig.tight_layout()\n",
    "fig.suptitle(f\"Time: {checkpoint_times[time_idx]:.4f}\")\n",
    "fig.show()\n"
   ]
  },
  {
   "cell_type": "code",
   "execution_count": 35,
   "metadata": {},
   "outputs": [],
   "source": [
    "import numpy as np\n",
    "from scipy.interpolate import interp1d\n",
    "\n",
    "def resampling(curve_long, curve_short):\n",
    "    # Interpolate curve2 onto the grid of curve1\n",
    "    interp_curve2 = interp1d(np.linspace(0, 1, len(curve_short)), curve_short)\n",
    "    curve2_resampled = interp_curve2(np.linspace(0, 1, len(curve_long)))\n",
    "    return curve2_resampled\n",
    "\n",
    "def l2_dist(curve1, curve2, dx ):\n",
    "    # Compute element-wise squared differences\n",
    "    squared_diff = (curve1 - curve2) ** 2\n",
    "\n",
    "    # Compute L2 distance\n",
    "    l2_dist = np.sum(np.sqrt(squared_diff)*dx[0])/2\n",
    "    return l2_dist"
   ]
  },
  {
   "cell_type": "code",
   "execution_count": 36,
   "metadata": {},
   "outputs": [],
   "source": [
    "dx_10000 =  setup_vars(Ns[-1])[2]\n",
    "errors_rho = {\n",
    "    N:[] for N in Ns\n",
    "}\n",
    "errors_p = {\n",
    "    N:[] for N in Ns\n",
    "}\n",
    "errors_u = {\n",
    "    N:[] for N in Ns\n",
    "}\n",
    "for checkp_idx in range(len(checkpoint_times)-1):\n",
    "# Sample all solutions to the N=1000 solutions\n",
    "    U_10000 = run_results10000[1][\"U\"][checkp_idx]\n",
    "\n",
    "    U_100 = run_results100[1][\"U\"][checkp_idx]\n",
    "    U_200 = run_results200[1][\"U\"][checkp_idx]\n",
    "    U_500 = run_results500[1][\"U\"][checkp_idx]\n",
    "    U_1000 = run_results1000[1][\"U\"][checkp_idx]\n",
    "    U_2000 = run_results2000[1][\"U\"][checkp_idx]\n",
    "    U_5000 = run_results5000[1][\"U\"][checkp_idx]\n",
    "\n",
    "    # Resample the solutions to the same grid\n",
    "    rho_100_resampled = resampling(U_10000[0], U_100[0])\n",
    "    rho_200_resampled = resampling(U_10000[0], U_200[0])\n",
    "    rho_500_resampled = resampling(U_10000[0], U_500[0])\n",
    "    rho_1000_resampled = resampling(U_10000[0], U_1000[0])\n",
    "    rho_2000_resampled = resampling(U_10000[0], U_2000[0])\n",
    "    rho_5000_resampled = resampling(U_10000[0], U_5000[0])\n",
    "\n",
    "    rhos_reshampled = [\n",
    "        rho_100_resampled,\n",
    "        rho_200_resampled,\n",
    "        rho_500_resampled,\n",
    "        rho_1000_resampled,\n",
    "        rho_2000_resampled,\n",
    "        rho_5000_resampled,\n",
    "    ]\n",
    "\n",
    "    u_100_resampled = resampling(U_10000[1], U_100[1])\n",
    "    u_200_resampled = resampling(U_10000[1], U_200[1])\n",
    "    u_500_resampled = resampling(U_10000[1], U_500[1])\n",
    "    u_1000_resampled = resampling(U_10000[1], U_1000[1])\n",
    "    u_2000_resampled = resampling(U_10000[1], U_2000[1])\n",
    "    u_5000_resampled = resampling(U_10000[1], U_5000[1])\n",
    "\n",
    "    u_reshampled = [\n",
    "        u_100_resampled,\n",
    "        u_200_resampled,\n",
    "        u_500_resampled,\n",
    "        u_1000_resampled,\n",
    "        u_2000_resampled,\n",
    "        u_5000_resampled,\n",
    "    ]\n",
    "\n",
    "    p_100_resampled = resampling(U_10000[2], U_100[2])\n",
    "    p_200_resampled = resampling(U_10000[2], U_200[2])\n",
    "    p_500_resampled = resampling(U_10000[2], U_500[2])\n",
    "    p_1000_resampled = resampling(U_10000[2], U_1000[2])\n",
    "    p_2000_resampled = resampling(U_10000[2], U_2000[2])\n",
    "    p_5000_resampled = resampling(U_10000[2], U_5000[2])\n",
    "\n",
    "    p_resampled = [\n",
    "        p_100_resampled,\n",
    "        p_200_resampled,\n",
    "        p_500_resampled,\n",
    "        p_1000_resampled,\n",
    "        p_2000_resampled,\n",
    "        p_5000_resampled,\n",
    "    ]\n",
    "    for j in range(len(Ns)-1):\n",
    "        errors_p[Ns[j]].append(l2_dist(U_10000[2], p_resampled[j], dx_10000))\n",
    "        errors_rho[Ns[j]].append(l2_dist(U_10000[0], rhos_reshampled[j], dx_10000))\n",
    "        errors_u[Ns[j]].append(l2_dist(U_10000[1], u_reshampled[j], dx_10000))\n"
   ]
  },
  {
   "cell_type": "code",
   "execution_count": 38,
   "metadata": {},
   "outputs": [],
   "source": [
    "fig, axs = plt.subplots(3,1, figsize = (10,10))\n",
    "fig.suptitle('L2 Difference from N=10000')\n",
    "\n",
    "str_Ns = [str(N) for N in Ns[:-1]]\n",
    "for j in range(len(str_Ns)):\n",
    "    axs[0].plot(checkpoint_times[:-1], errors_rho[Ns[j]], color = colors[j], label=f\"{Ns[j]}\")\n",
    "    axs[1].plot(checkpoint_times[:-1], errors_u[Ns[j]], color = colors[j], label=f\"{Ns[j]}\")\n",
    "    axs[2].plot(checkpoint_times[:-1], errors_p[Ns[j]], color = colors[j], label=f\"{Ns[j]}\")\n",
    "\n",
    "axs[0].set_title(\"Rho\")\n",
    "axs[1].set_title(\"U\")\n",
    "axs[2].set_title(\"P\")\n",
    "axs[2].set_xlabel(\"Time\")\n",
    "axs[0].legend(\n",
    "    title = \"N\",\n",
    "\n",
    "    loc='upper left'\n",
    ")\n",
    "for ax in axs:\n",
    "    # Set logarithmic scale\n",
    "    ax.set_yscale('log')\n",
    "from collections import OrderedDict\n",
    "import matplotlib.pyplot as plt\n",
    "\n",
    "handles, labels = plt.gca().get_legend_handles_labels()\n",
    "by_label = OrderedDict(zip(labels, handles))\n",
    "axs[0].legend(by_label.values(), by_label.keys(), title = \"N\",\n",
    "              bbox_to_anchor = (1.05, 1), loc='upper left')\n",
    "fig.show()"
   ]
  },
  {
   "cell_type": "code",
   "execution_count": null,
   "metadata": {},
   "outputs": [],
   "source": []
  }
 ],
 "metadata": {
  "kernelspec": {
   "display_name": "aero",
   "language": "python",
   "name": "python3"
  },
  "language_info": {
   "codemirror_mode": {
    "name": "ipython",
    "version": 3
   },
   "file_extension": ".py",
   "mimetype": "text/x-python",
   "name": "python",
   "nbconvert_exporter": "python",
   "pygments_lexer": "ipython3",
   "version": "3.12.0"
  }
 },
 "nbformat": 4,
 "nbformat_minor": 2
}
